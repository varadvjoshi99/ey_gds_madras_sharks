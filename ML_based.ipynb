{
  "nbformat": 4,
  "nbformat_minor": 0,
  "metadata": {
    "colab": {
      "name": "ML_based.ipynb",
      "provenance": [],
      "collapsed_sections": []
    },
    "kernelspec": {
      "display_name": "Python 3",
      "language": "python",
      "name": "python3"
    },
    "language_info": {
      "codemirror_mode": {
        "name": "ipython",
        "version": 3
      },
      "file_extension": ".py",
      "mimetype": "text/x-python",
      "name": "python",
      "nbconvert_exporter": "python",
      "pygments_lexer": "ipython3",
      "version": "3.7.3"
    }
  },
  "cells": [
    {
      "cell_type": "code",
      "metadata": {
        "id": "qjyyM-RIbEIw"
      },
      "source": [
        ""
      ],
      "execution_count": null,
      "outputs": []
    },
    {
      "cell_type": "code",
      "metadata": {
        "id": "6WNeqZUuU8LF"
      },
      "source": [
        "import numpy as np\n",
        "import pandas as pd\n",
        "import matplotlib.pyplot as plt\n",
        "import re"
      ],
      "execution_count": null,
      "outputs": []
    },
    {
      "cell_type": "code",
      "metadata": {
        "colab": {
          "base_uri": "https://localhost:8080/",
          "height": 206
        },
        "id": "CZceEe_HU8LM",
        "outputId": "fd338d75-6364-4225-d0c6-3098ee002195"
      },
      "source": [
        "df = pd.read_excel('/content/Datasets _ NLP based tagging solution078466f.xlsx',sheet_name='Training Data ')\n",
        "df.head()"
      ],
      "execution_count": null,
      "outputs": [
        {
          "output_type": "execute_result",
          "data": {
            "text/html": [
              "<div>\n",
              "<style scoped>\n",
              "    .dataframe tbody tr th:only-of-type {\n",
              "        vertical-align: middle;\n",
              "    }\n",
              "\n",
              "    .dataframe tbody tr th {\n",
              "        vertical-align: top;\n",
              "    }\n",
              "\n",
              "    .dataframe thead th {\n",
              "        text-align: right;\n",
              "    }\n",
              "</style>\n",
              "<table border=\"1\" class=\"dataframe\">\n",
              "  <thead>\n",
              "    <tr style=\"text-align: right;\">\n",
              "      <th></th>\n",
              "      <th>Exception (input)</th>\n",
              "      <th>Queue</th>\n",
              "      <th>Process</th>\n",
              "      <th>Exception Category (ouput)</th>\n",
              "    </tr>\n",
              "  </thead>\n",
              "  <tbody>\n",
              "    <tr>\n",
              "      <th>0</th>\n",
              "      <td>Invite not found in both CBS mailbox</td>\n",
              "      <td>Queue-12</td>\n",
              "      <td>Process-9</td>\n",
              "      <td>Business Exception</td>\n",
              "    </tr>\n",
              "    <tr>\n",
              "      <th>1</th>\n",
              "      <td>Interviewer xxxx mail ID not found in invite.</td>\n",
              "      <td>Queue-12</td>\n",
              "      <td>Process-9</td>\n",
              "      <td>Business Exception</td>\n",
              "    </tr>\n",
              "    <tr>\n",
              "      <th>2</th>\n",
              "      <td>Invite not found in both TAX and PAS mailbox</td>\n",
              "      <td>Queue-12</td>\n",
              "      <td>Process-9</td>\n",
              "      <td>Business Exception</td>\n",
              "    </tr>\n",
              "    <tr>\n",
              "      <th>3</th>\n",
              "      <td>InternalFailed to evaluate expression 'Replace...</td>\n",
              "      <td>Queue-14</td>\n",
              "      <td>Process-11</td>\n",
              "      <td>System Exception</td>\n",
              "    </tr>\n",
              "    <tr>\n",
              "      <th>4</th>\n",
              "      <td>Could not execute code stage because exception...</td>\n",
              "      <td>Queue-16</td>\n",
              "      <td>Process-13</td>\n",
              "      <td>System Exception</td>\n",
              "    </tr>\n",
              "  </tbody>\n",
              "</table>\n",
              "</div>"
            ],
            "text/plain": [
              "                                   Exception (input)  ... Exception Category (ouput)\n",
              "0               Invite not found in both CBS mailbox  ...         Business Exception\n",
              "1     Interviewer xxxx mail ID not found in invite.   ...         Business Exception\n",
              "2       Invite not found in both TAX and PAS mailbox  ...         Business Exception\n",
              "3  InternalFailed to evaluate expression 'Replace...  ...           System Exception\n",
              "4  Could not execute code stage because exception...  ...           System Exception\n",
              "\n",
              "[5 rows x 4 columns]"
            ]
          },
          "metadata": {
            "tags": []
          },
          "execution_count": 3
        }
      ]
    },
    {
      "cell_type": "code",
      "metadata": {
        "id": "gp1MWxvuQFTd"
      },
      "source": [
        "#preprocessing steps\n",
        "\n",
        "def clean_text(text):\n",
        "    \"\"\"\n",
        "    Applies some pre-processing on the given text.\n",
        "\n",
        "    Steps :\n",
        "    - Removing punctuation\n",
        "    - Lowering text\n",
        "    \"\"\"\n",
        "    \n",
        "    # remove the characters [\\], ['] and [\"]\n",
        "    text = re.sub(r\"\\\\\", \"\", text)    \n",
        "    text = re.sub(r\"\\'\", \"\", text)    \n",
        "    text = re.sub(r\"\\\"\", \"\", text)  \n",
        "    # text = re.sub(r'[0-9]','', text)  \n",
        "    \n",
        "    # convert text to lowercase\n",
        "    text = text.strip().lower()\n",
        "    \n",
        "    # replace punctuation characters with spaces\n",
        "    filters='!\"\\'#$%&()*+,-./:;<=>?@[\\\\]^_`{|}~\\t\\n'\n",
        "    translate_dict = dict((c, \" \") for c in filters)\n",
        "    translate_map = str.maketrans(translate_dict)\n",
        "    text = text.translate(translate_map)\n",
        "\n",
        "    return text"
      ],
      "execution_count": null,
      "outputs": []
    },
    {
      "cell_type": "code",
      "metadata": {
        "id": "qeQWZ4FzU8LS"
      },
      "source": [
        "#vectorization\n",
        "\n",
        "from sklearn.feature_extraction.text import CountVectorizer\n",
        "vectorizer = CountVectorizer(stop_words=\"english\", preprocessor=clean_text)\n",
        "train = df['Exception (input)']\n",
        "\n",
        "training_features = vectorizer.fit_transform(train)"
      ],
      "execution_count": null,
      "outputs": []
    },
    {
      "cell_type": "code",
      "metadata": {
        "id": "biU7hAVRU8LS",
        "colab": {
          "base_uri": "https://localhost:8080/"
        },
        "outputId": "efeac008-4196-4c1d-8511-bfbb8d767e1d"
      },
      "source": [
        "vectorizer.vocabulary_.items()"
      ],
      "execution_count": null,
      "outputs": [
        {
          "output_type": "execute_result",
          "data": {
            "text/plain": [
              "dict_items([('invite', 79), ('cbs', 26), ('mailbox', 98), ('interviewer', 78), ('xxxx', 183), ('mail', 96), ('id', 73), ('tax', 167), ('pas', 119), ('internalfailed', 77), ('evaluate', 51), ('expression', 55), ('replace', 138), ('mailbody', 97), ('item', 86), ('data', 40), ('collection', 33), ('execute', 54), ('code', 31), ('stage', 159), ('exception', 52), ('thrown', 172), ('given', 68), ('key', 91), ('present', 124), ('dictionary', 43), ('email', 46), ('failed', 57), ('read', 134), ('automatically', 19), ('set', 156), ('cleanup', 27), ('session', 155), ('end', 47), ('recruiter', 135), ('assurance', 18), ('occured', 112), ('accessing', 12), ('article', 17), ('page', 117), ('unable', 175), ('processed', 126), ('launch', 93), ('service', 154), ('site', 158), ('retries', 142), ('missing', 104), ('mandatory', 100), ('fields', 61), ('consulting', 34), ('internal', 76), ('new', 109), ('work', 181), ('queue', 130), ('items', 87), ('filtered', 64), ('output', 115), ('p2', 116), ('current', 39), ('row', 146), ('populated', 123), ('filterd', 63), ('queuefile', 131), ('contain', 35), ('valid', 178), ('apac', 14), ('country', 37), ('field', 60), ('po', 122), ('created', 38), ('parent', 118), ('2036', 6), ('sa', 148), ('entries', 48), ('proecssed', 128), ('manually', 101), ('unexpected', 176), ('error', 49), ('adding', 13), ('requests', 141), ('request', 140), ('form', 66), ('perform', 120), ('step', 161), ('product', 127), ('model', 105), ('purchase', 129), ('order', 114), ('line', 95), ('object', 111), ('invoked', 82), ('disconnected', 44), ('clients', 29), ('hresult', 70), ('0x80010108', 1), ('rpc', 147), ('does', 45), ('contains', 36), ('right', 145), ('subject', 163), ('start', 160), ('bbc', 21), ('update', 177), ('209', 7), ('remote', 137), ('server', 153), ('returned', 143), ('504', 9), ('gateway', 67), ('timeout', 173), ('421', 8), ('2034', 5), ('tfd', 171), ('navigate', 107), ('invoke', 81), ('js', 89), ('ram', 133), ('visible', 180), ('place', 121), ('invoking', 84), ('javascript', 88), ('method', 102), ('0x80020101', 2), ('mshtml', 106), ('htmlwindow2class', 72), ('ihtmlwindow2', 74), ('execscript', 53), ('string', 162), ('language', 92), ('blueprism', 23), ('applicationmanager', 16), ('html', 71), ('clshtmldocument', 30), ('invokejavascriptmethod', 83), ('methodname', 103), ('jsonargs', 90), ('retval', 144), ('serr', 152), ('template', 169), ('bot', 24), ('send', 151), ('file', 62), ('write', 182), ('ey', 56), ('house', 69), ('bank', 20), ('coding', 32), ('block', 22), ('target', 166), ('invocation', 80), ('navigate1', 108), ('search', 150), ('req', 139), ('taleo', 165), ('application', 15), ('input', 75), ('clear', 28), ('short', 157), ('desc', 42), ('problemticket', 125), ('tabs', 164), ('access', 10), ('denied', 41), ('0x80070005', 3), ('accessdenied', 11), ('rejected', 136), ('callee', 25), ('0x80010001', 0), ('es', 50), ('tdr', 168), ('sccm', 149), ('launched', 94), ('main', 99), ('nodelevel', 110), ('0x800a9c68', 4), ('opportunity', 113), ('fetch', 59), ('race', 132), ('tool', 174), ('issue', 85), ('finding', 65), ('failure', 58), ('textbox', 170), ('value', 179)])"
            ]
          },
          "metadata": {
            "tags": []
          },
          "execution_count": 35
        }
      ]
    },
    {
      "cell_type": "code",
      "metadata": {
        "id": "8mgoBs9HU8LS",
        "colab": {
          "base_uri": "https://localhost:8080/"
        },
        "outputId": "78a6cecc-eba9-4d84-da2f-59da46cae156"
      },
      "source": [
        "from sklearn.metrics import accuracy_score\n",
        "from sklearn.svm import LinearSVC\n",
        "from sklearn.naive_bayes import GaussianNB\n",
        "from sklearn.naive_bayes import MultinomialNB\n",
        "from sklearn.linear_model import LogisticRegression\n",
        "\n",
        "model = LinearSVC()\n",
        "model2 = MultinomialNB()\n",
        "model3 = LogisticRegression()\n",
        "model.fit(training_features[:40], df[\"Exception Category (ouput)\"][:40])\n",
        "model2.fit(training_features[:40], df[\"Exception Category (ouput)\"][:40])\n",
        "model3.fit(training_features[10:], df[\"Exception Category (ouput)\"][10:])"
      ],
      "execution_count": null,
      "outputs": [
        {
          "output_type": "execute_result",
          "data": {
            "text/plain": [
              "LogisticRegression(C=1.0, class_weight=None, dual=False, fit_intercept=True,\n",
              "                   intercept_scaling=1, l1_ratio=None, max_iter=100,\n",
              "                   multi_class='auto', n_jobs=None, penalty='l2',\n",
              "                   random_state=None, solver='lbfgs', tol=0.0001, verbose=0,\n",
              "                   warm_start=False)"
            ]
          },
          "metadata": {
            "tags": []
          },
          "execution_count": 16
        }
      ]
    },
    {
      "cell_type": "code",
      "metadata": {
        "id": "4QnpMMiBR-LT"
      },
      "source": [
        "y_pred = model.predict(training_features[40:])\n",
        "y_pred2 = model2.predict(training_features[40:])\n",
        "y_pred3 = model3.predict(training_features[0:10])"
      ],
      "execution_count": null,
      "outputs": []
    },
    {
      "cell_type": "code",
      "metadata": {
        "colab": {
          "base_uri": "https://localhost:8080/"
        },
        "id": "DYDEKsc5uaWO",
        "outputId": "2242913f-8dcd-4020-a1be-30ba4e02101d"
      },
      "source": [
        "print(y_pred3)"
      ],
      "execution_count": null,
      "outputs": [
        {
          "output_type": "stream",
          "text": [
            "['Business Exception' 'Business Exception' 'Business Exception'\n",
            " 'System Exception' 'System Exception' 'Business Exception'\n",
            " 'Business Exception' 'Business Exception' 'Business Exception'\n",
            " 'Business Exception']\n"
          ],
          "name": "stdout"
        }
      ]
    },
    {
      "cell_type": "code",
      "metadata": {
        "id": "lMDN8JHMU8LS",
        "colab": {
          "base_uri": "https://localhost:8080/"
        },
        "outputId": "b8274323-119f-41ba-b8a9-bee0abc91517"
      },
      "source": [
        "print(y_pred)"
      ],
      "execution_count": null,
      "outputs": [
        {
          "output_type": "stream",
          "text": [
            "['System Exception' 'System Exception' 'System Exception'\n",
            " 'System Exception' 'System Exception' 'System Exception'\n",
            " 'Business Exception']\n"
          ],
          "name": "stdout"
        }
      ]
    },
    {
      "cell_type": "code",
      "metadata": {
        "colab": {
          "base_uri": "https://localhost:8080/"
        },
        "id": "lyQxkhH2toKf",
        "outputId": "26e17e56-d534-48f5-fe18-c1cf64741e4e"
      },
      "source": [
        "print(y_pred2)"
      ],
      "execution_count": null,
      "outputs": [
        {
          "output_type": "stream",
          "text": [
            "['System Exception' 'System Exception' 'System Exception'\n",
            " 'System Exception' 'System Exception' 'System Exception'\n",
            " 'Business Exception']\n"
          ],
          "name": "stdout"
        }
      ]
    },
    {
      "cell_type": "code",
      "metadata": {
        "id": "USw-MFJIU8LT",
        "colab": {
          "base_uri": "https://localhost:8080/"
        },
        "outputId": "9f3e95d4-b44b-48de-fe7c-89445db4ee24"
      },
      "source": [
        "print('Accuracy for Exception category using SVC: ',accuracy_score(df[\"Exception Category (ouput)\"][40:],y_pred))\n",
        "print('Accuracy for Exception category using Naive Bayes: ',accuracy_score(df[\"Exception Category (ouput)\"][40:],y_pred2))\n",
        "print('Accuracy for Exception category using Logistic Regression: ',accuracy_score(df[\"Exception Category (ouput)\"][0:10],y_pred3))"
      ],
      "execution_count": null,
      "outputs": [
        {
          "output_type": "stream",
          "text": [
            "Accuracy for Exception category using SVC:  0.8571428571428571\n",
            "Accuracy for Exception category using Naive Bayes:  0.8571428571428571\n",
            "Accuracy for Exception category using LOgistic Regression:  0.8\n"
          ],
          "name": "stdout"
        }
      ]
    },
    {
      "cell_type": "markdown",
      "metadata": {
        "id": "p0fuISyfjXhd"
      },
      "source": [
        "We have used Logistic Regression, Multinomial Naive-Bayes, and Support Vector Machine as our training models."
      ]
    },
    {
      "cell_type": "code",
      "metadata": {
        "colab": {
          "base_uri": "https://localhost:8080/",
          "height": 263
        },
        "id": "L2vHSR4hUNXL",
        "outputId": "ef62e92d-d3d9-4fef-c7cf-2b62646017db"
      },
      "source": [
        "df_out = pd.DataFrame(data = {'Input': train[40:], 'Output':y_pred})\n",
        "df_out"
      ],
      "execution_count": null,
      "outputs": [
        {
          "output_type": "execute_result",
          "data": {
            "text/html": [
              "<div>\n",
              "<style scoped>\n",
              "    .dataframe tbody tr th:only-of-type {\n",
              "        vertical-align: middle;\n",
              "    }\n",
              "\n",
              "    .dataframe tbody tr th {\n",
              "        vertical-align: top;\n",
              "    }\n",
              "\n",
              "    .dataframe thead th {\n",
              "        text-align: right;\n",
              "    }\n",
              "</style>\n",
              "<table border=\"1\" class=\"dataframe\">\n",
              "  <thead>\n",
              "    <tr style=\"text-align: right;\">\n",
              "      <th></th>\n",
              "      <th>Input</th>\n",
              "      <th>Output</th>\n",
              "    </tr>\n",
              "  </thead>\n",
              "  <tbody>\n",
              "    <tr>\n",
              "      <th>40</th>\n",
              "      <td>Failed to fetch data from RACE tool due to sit...</td>\n",
              "      <td>System Exception</td>\n",
              "    </tr>\n",
              "    <tr>\n",
              "      <th>41</th>\n",
              "      <td>Could not execute code stage because exception...</td>\n",
              "      <td>System Exception</td>\n",
              "    </tr>\n",
              "    <tr>\n",
              "      <th>42</th>\n",
              "      <td>Internal_Could not execute code stage because ...</td>\n",
              "      <td>System Exception</td>\n",
              "    </tr>\n",
              "    <tr>\n",
              "      <th>43</th>\n",
              "      <td>Failed to perform step 1 in Read Stage 'Read p...</td>\n",
              "      <td>System Exception</td>\n",
              "    </tr>\n",
              "    <tr>\n",
              "      <th>44</th>\n",
              "      <td>BBC Update failed for BBC ID- 330- The remote ...</td>\n",
              "      <td>System Exception</td>\n",
              "    </tr>\n",
              "    <tr>\n",
              "      <th>45</th>\n",
              "      <td>Failed to perform step 1 in Navigate Stage 'Cl...</td>\n",
              "      <td>System Exception</td>\n",
              "    </tr>\n",
              "    <tr>\n",
              "      <th>46</th>\n",
              "      <td>Error in populating result in output template ...</td>\n",
              "      <td>Business Exception</td>\n",
              "    </tr>\n",
              "  </tbody>\n",
              "</table>\n",
              "</div>"
            ],
            "text/plain": [
              "                                                Input              Output\n",
              "40  Failed to fetch data from RACE tool due to sit...    System Exception\n",
              "41  Could not execute code stage because exception...    System Exception\n",
              "42  Internal_Could not execute code stage because ...    System Exception\n",
              "43  Failed to perform step 1 in Read Stage 'Read p...    System Exception\n",
              "44  BBC Update failed for BBC ID- 330- The remote ...    System Exception\n",
              "45  Failed to perform step 1 in Navigate Stage 'Cl...    System Exception\n",
              "46  Error in populating result in output template ...  Business Exception"
            ]
          },
          "metadata": {
            "tags": []
          },
          "execution_count": 74
        }
      ]
    },
    {
      "cell_type": "code",
      "metadata": {
        "id": "rzPod_k1U9Ux"
      },
      "source": [
        "df_out.to_excel('output.xlsx',index = False)"
      ],
      "execution_count": null,
      "outputs": []
    }
  ]
}