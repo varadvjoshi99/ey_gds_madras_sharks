{
  "nbformat": 4,
  "nbformat_minor": 0,
  "metadata": {
    "colab": {
      "name": "Word2Vec.ipynb",
      "provenance": []
    },
    "kernelspec": {
      "name": "python3",
      "display_name": "Python 3"
    },
    "language_info": {
      "name": "python"
    }
  },
  "cells": [
    {
      "cell_type": "code",
      "metadata": {
        "id": "yPCGgXcabaNu"
      },
      "source": [
        ""
      ],
      "execution_count": null,
      "outputs": []
    },
    {
      "cell_type": "code",
      "metadata": {
        "id": "6WNeqZUuU8LF",
        "colab": {
          "base_uri": "https://localhost:8080/"
        },
        "outputId": "1476a0cb-db2a-4db3-9027-3d4711623636"
      },
      "source": [
        "import numpy as np\n",
        "import pandas as pd\n",
        "import matplotlib.pyplot as plt\n",
        "import re\n",
        "import nltk\n",
        "nltk.download('stopwords')\n",
        "nltk.download('wordnet')"
      ],
      "execution_count": 25,
      "outputs": [
        {
          "output_type": "stream",
          "text": [
            "[nltk_data] Downloading package stopwords to /root/nltk_data...\n",
            "[nltk_data]   Package stopwords is already up-to-date!\n",
            "[nltk_data] Downloading package wordnet to /root/nltk_data...\n",
            "[nltk_data]   Unzipping corpora/wordnet.zip.\n"
          ],
          "name": "stdout"
        },
        {
          "output_type": "execute_result",
          "data": {
            "text/plain": [
              "True"
            ]
          },
          "metadata": {
            "tags": []
          },
          "execution_count": 25
        }
      ]
    },
    {
      "cell_type": "code",
      "metadata": {
        "colab": {
          "base_uri": "https://localhost:8080/",
          "height": 202
        },
        "id": "hpE4fo4QHWNj",
        "outputId": "e433d499-fad5-4d7c-c669-f1a268fd5ab9"
      },
      "source": [
        "df = pd.read_excel('/content/Datasets _ NLP based tagging solution078466f.xlsx',sheet_name='Training Data ')\n",
        "df.head()\n"
      ],
      "execution_count": 26,
      "outputs": [
        {
          "output_type": "execute_result",
          "data": {
            "text/html": [
              "<div>\n",
              "<style scoped>\n",
              "    .dataframe tbody tr th:only-of-type {\n",
              "        vertical-align: middle;\n",
              "    }\n",
              "\n",
              "    .dataframe tbody tr th {\n",
              "        vertical-align: top;\n",
              "    }\n",
              "\n",
              "    .dataframe thead th {\n",
              "        text-align: right;\n",
              "    }\n",
              "</style>\n",
              "<table border=\"1\" class=\"dataframe\">\n",
              "  <thead>\n",
              "    <tr style=\"text-align: right;\">\n",
              "      <th></th>\n",
              "      <th>Exception (input)</th>\n",
              "      <th>Queue</th>\n",
              "      <th>Process</th>\n",
              "      <th>Exception Category (ouput)</th>\n",
              "    </tr>\n",
              "  </thead>\n",
              "  <tbody>\n",
              "    <tr>\n",
              "      <th>0</th>\n",
              "      <td>Invite not found in both CBS mailbox</td>\n",
              "      <td>Queue-12</td>\n",
              "      <td>Process-9</td>\n",
              "      <td>Business Exception</td>\n",
              "    </tr>\n",
              "    <tr>\n",
              "      <th>1</th>\n",
              "      <td>Interviewer xxxx mail ID not found in invite.</td>\n",
              "      <td>Queue-12</td>\n",
              "      <td>Process-9</td>\n",
              "      <td>Business Exception</td>\n",
              "    </tr>\n",
              "    <tr>\n",
              "      <th>2</th>\n",
              "      <td>Invite not found in both TAX and PAS mailbox</td>\n",
              "      <td>Queue-12</td>\n",
              "      <td>Process-9</td>\n",
              "      <td>Business Exception</td>\n",
              "    </tr>\n",
              "    <tr>\n",
              "      <th>3</th>\n",
              "      <td>InternalFailed to evaluate expression 'Replace...</td>\n",
              "      <td>Queue-14</td>\n",
              "      <td>Process-11</td>\n",
              "      <td>System Exception</td>\n",
              "    </tr>\n",
              "    <tr>\n",
              "      <th>4</th>\n",
              "      <td>Could not execute code stage because exception...</td>\n",
              "      <td>Queue-16</td>\n",
              "      <td>Process-13</td>\n",
              "      <td>System Exception</td>\n",
              "    </tr>\n",
              "  </tbody>\n",
              "</table>\n",
              "</div>"
            ],
            "text/plain": [
              "                                   Exception (input)  ... Exception Category (ouput)\n",
              "0               Invite not found in both CBS mailbox  ...         Business Exception\n",
              "1     Interviewer xxxx mail ID not found in invite.   ...         Business Exception\n",
              "2       Invite not found in both TAX and PAS mailbox  ...         Business Exception\n",
              "3  InternalFailed to evaluate expression 'Replace...  ...           System Exception\n",
              "4  Could not execute code stage because exception...  ...           System Exception\n",
              "\n",
              "[5 rows x 4 columns]"
            ]
          },
          "metadata": {
            "tags": []
          },
          "execution_count": 26
        }
      ]
    },
    {
      "cell_type": "code",
      "metadata": {
        "colab": {
          "base_uri": "https://localhost:8080/"
        },
        "id": "Oul2bw_XYlpP",
        "outputId": "2d01e776-225f-4b0a-d706-27a410ab3767"
      },
      "source": [
        "df.columns"
      ],
      "execution_count": 27,
      "outputs": [
        {
          "output_type": "execute_result",
          "data": {
            "text/plain": [
              "Index(['Exception (input)', 'Queue', 'Process', 'Exception Category (ouput)'], dtype='object')"
            ]
          },
          "metadata": {
            "tags": []
          },
          "execution_count": 27
        }
      ]
    },
    {
      "cell_type": "code",
      "metadata": {
        "colab": {
          "base_uri": "https://localhost:8080/",
          "height": 202
        },
        "id": "bwjowaFdY5ED",
        "outputId": "7181bc9f-1d7a-4c75-a747-edce52067ab4"
      },
      "source": [
        "df = df.rename(columns={'Exception (input)': 'input', 'Queue':'queue', 'Process': 'process', 'Exception Category (ouput)':'output'})\n",
        "df.head()"
      ],
      "execution_count": 28,
      "outputs": [
        {
          "output_type": "execute_result",
          "data": {
            "text/html": [
              "<div>\n",
              "<style scoped>\n",
              "    .dataframe tbody tr th:only-of-type {\n",
              "        vertical-align: middle;\n",
              "    }\n",
              "\n",
              "    .dataframe tbody tr th {\n",
              "        vertical-align: top;\n",
              "    }\n",
              "\n",
              "    .dataframe thead th {\n",
              "        text-align: right;\n",
              "    }\n",
              "</style>\n",
              "<table border=\"1\" class=\"dataframe\">\n",
              "  <thead>\n",
              "    <tr style=\"text-align: right;\">\n",
              "      <th></th>\n",
              "      <th>input</th>\n",
              "      <th>queue</th>\n",
              "      <th>process</th>\n",
              "      <th>output</th>\n",
              "    </tr>\n",
              "  </thead>\n",
              "  <tbody>\n",
              "    <tr>\n",
              "      <th>0</th>\n",
              "      <td>Invite not found in both CBS mailbox</td>\n",
              "      <td>Queue-12</td>\n",
              "      <td>Process-9</td>\n",
              "      <td>Business Exception</td>\n",
              "    </tr>\n",
              "    <tr>\n",
              "      <th>1</th>\n",
              "      <td>Interviewer xxxx mail ID not found in invite.</td>\n",
              "      <td>Queue-12</td>\n",
              "      <td>Process-9</td>\n",
              "      <td>Business Exception</td>\n",
              "    </tr>\n",
              "    <tr>\n",
              "      <th>2</th>\n",
              "      <td>Invite not found in both TAX and PAS mailbox</td>\n",
              "      <td>Queue-12</td>\n",
              "      <td>Process-9</td>\n",
              "      <td>Business Exception</td>\n",
              "    </tr>\n",
              "    <tr>\n",
              "      <th>3</th>\n",
              "      <td>InternalFailed to evaluate expression 'Replace...</td>\n",
              "      <td>Queue-14</td>\n",
              "      <td>Process-11</td>\n",
              "      <td>System Exception</td>\n",
              "    </tr>\n",
              "    <tr>\n",
              "      <th>4</th>\n",
              "      <td>Could not execute code stage because exception...</td>\n",
              "      <td>Queue-16</td>\n",
              "      <td>Process-13</td>\n",
              "      <td>System Exception</td>\n",
              "    </tr>\n",
              "  </tbody>\n",
              "</table>\n",
              "</div>"
            ],
            "text/plain": [
              "                                               input  ...              output\n",
              "0               Invite not found in both CBS mailbox  ...  Business Exception\n",
              "1     Interviewer xxxx mail ID not found in invite.   ...  Business Exception\n",
              "2       Invite not found in both TAX and PAS mailbox  ...  Business Exception\n",
              "3  InternalFailed to evaluate expression 'Replace...  ...    System Exception\n",
              "4  Could not execute code stage because exception...  ...    System Exception\n",
              "\n",
              "[5 rows x 4 columns]"
            ]
          },
          "metadata": {
            "tags": []
          },
          "execution_count": 28
        }
      ]
    },
    {
      "cell_type": "code",
      "metadata": {
        "id": "_yKMcAl_HWij"
      },
      "source": [
        "#preprocessing steps\n",
        "\n",
        "def clean_text(text, flg_stemm = False, flg_lemm = True):\n",
        "    \"\"\"\n",
        "    Applies some pre-processing on the given text.\n",
        "\n",
        "    Steps :\n",
        "    - Removing punctuation\n",
        "    - Lowering text\n",
        "    \"\"\"\n",
        "    \n",
        "    # remove the characters [\\], ['] and [\"]\n",
        "    text = re.sub(r\"\\\\\", \"\", text)    \n",
        "    text = re.sub(r\"\\'\", \"\", text)    \n",
        "    text = re.sub(r\"\\\"\", \"\", text)  \n",
        "    text = re.sub(r'[0-9]','', text)  \n",
        "    \n",
        "    # convert text to lowercase\n",
        "    text = text.strip().lower()\n",
        "    \n",
        "    # replace punctuation characters with spaces\n",
        "    filters='!\"\\'#$%&()*+,-./:;<=>?@[\\\\]^_`{|}~\\t\\n'\n",
        "    translate_dict = dict((c, \" \") for c in filters)\n",
        "    translate_map = str.maketrans(translate_dict)\n",
        "    text = text.translate(translate_map)\n",
        "\n",
        "    ## Tokenize (convert from string to list)\n",
        "    lst_text = text.split()    ## remove Stopwords\n",
        "    lst_stopwords = nltk.corpus.stopwords.words('english').remove('not')\n",
        "    if lst_stopwords is not None:\n",
        "        lst_text = [word for word in lst_text if word not in lst_stopwords]\n",
        "\n",
        "    ## Stemming (remove -ing, -ly, ...)\n",
        "    if flg_stemm == True:\n",
        "        ps = nltk.stem.porter.PorterStemmer()\n",
        "        lst_text = [ps.stem(word) for word in lst_text]\n",
        "                \n",
        "    ## Lemmatisation (convert the word into root word)\n",
        "    if flg_lemm == True:\n",
        "        lem = nltk.stem.wordnet.WordNetLemmatizer()\n",
        "        lst_text = [lem.lemmatize(word) for word in lst_text]\n",
        "            \n",
        "    ## back to string from list\n",
        "    text = \" \".join(lst_text)\n",
        "    return text"
      ],
      "execution_count": 38,
      "outputs": []
    },
    {
      "cell_type": "code",
      "metadata": {
        "colab": {
          "base_uri": "https://localhost:8080/",
          "height": 35
        },
        "id": "J6Jd9fFCHj6r",
        "outputId": "1c7cf1f8-30ac-4e63-cfbd-09ee79323370"
      },
      "source": [
        "clean_text(df['input'].iloc[0])"
      ],
      "execution_count": 39,
      "outputs": [
        {
          "output_type": "execute_result",
          "data": {
            "application/vnd.google.colaboratory.intrinsic+json": {
              "type": "string"
            },
            "text/plain": [
              "'invite not found in both cbs mailbox'"
            ]
          },
          "metadata": {
            "tags": []
          },
          "execution_count": 39
        }
      ]
    },
    {
      "cell_type": "code",
      "metadata": {
        "id": "64htkeoRX4b8"
      },
      "source": [
        "df['cleaned'] = df.input.apply(lambda x:clean_text(x))"
      ],
      "execution_count": 40,
      "outputs": []
    },
    {
      "cell_type": "code",
      "metadata": {
        "colab": {
          "base_uri": "https://localhost:8080/",
          "height": 202
        },
        "id": "MU5ZMeV0aTGE",
        "outputId": "38d24c37-5feb-46be-d788-3f845e89654c"
      },
      "source": [
        "df.head()"
      ],
      "execution_count": 41,
      "outputs": [
        {
          "output_type": "execute_result",
          "data": {
            "text/html": [
              "<div>\n",
              "<style scoped>\n",
              "    .dataframe tbody tr th:only-of-type {\n",
              "        vertical-align: middle;\n",
              "    }\n",
              "\n",
              "    .dataframe tbody tr th {\n",
              "        vertical-align: top;\n",
              "    }\n",
              "\n",
              "    .dataframe thead th {\n",
              "        text-align: right;\n",
              "    }\n",
              "</style>\n",
              "<table border=\"1\" class=\"dataframe\">\n",
              "  <thead>\n",
              "    <tr style=\"text-align: right;\">\n",
              "      <th></th>\n",
              "      <th>input</th>\n",
              "      <th>queue</th>\n",
              "      <th>process</th>\n",
              "      <th>output</th>\n",
              "      <th>cleaned</th>\n",
              "    </tr>\n",
              "  </thead>\n",
              "  <tbody>\n",
              "    <tr>\n",
              "      <th>0</th>\n",
              "      <td>Invite not found in both CBS mailbox</td>\n",
              "      <td>Queue-12</td>\n",
              "      <td>Process-9</td>\n",
              "      <td>Business Exception</td>\n",
              "      <td>invite not found in both cbs mailbox</td>\n",
              "    </tr>\n",
              "    <tr>\n",
              "      <th>1</th>\n",
              "      <td>Interviewer xxxx mail ID not found in invite.</td>\n",
              "      <td>Queue-12</td>\n",
              "      <td>Process-9</td>\n",
              "      <td>Business Exception</td>\n",
              "      <td>interviewer xxxx mail id not found in invite</td>\n",
              "    </tr>\n",
              "    <tr>\n",
              "      <th>2</th>\n",
              "      <td>Invite not found in both TAX and PAS mailbox</td>\n",
              "      <td>Queue-12</td>\n",
              "      <td>Process-9</td>\n",
              "      <td>Business Exception</td>\n",
              "      <td>invite not found in both tax and pa mailbox</td>\n",
              "    </tr>\n",
              "    <tr>\n",
              "      <th>3</th>\n",
              "      <td>InternalFailed to evaluate expression 'Replace...</td>\n",
              "      <td>Queue-14</td>\n",
              "      <td>Process-11</td>\n",
              "      <td>System Exception</td>\n",
              "      <td>internalfailed to evaluate expression replace ...</td>\n",
              "    </tr>\n",
              "    <tr>\n",
              "      <th>4</th>\n",
              "      <td>Could not execute code stage because exception...</td>\n",
              "      <td>Queue-16</td>\n",
              "      <td>Process-13</td>\n",
              "      <td>System Exception</td>\n",
              "      <td>could not execute code stage because exception...</td>\n",
              "    </tr>\n",
              "  </tbody>\n",
              "</table>\n",
              "</div>"
            ],
            "text/plain": [
              "                                               input  ...                                            cleaned\n",
              "0               Invite not found in both CBS mailbox  ...               invite not found in both cbs mailbox\n",
              "1     Interviewer xxxx mail ID not found in invite.   ...       interviewer xxxx mail id not found in invite\n",
              "2       Invite not found in both TAX and PAS mailbox  ...        invite not found in both tax and pa mailbox\n",
              "3  InternalFailed to evaluate expression 'Replace...  ...  internalfailed to evaluate expression replace ...\n",
              "4  Could not execute code stage because exception...  ...  could not execute code stage because exception...\n",
              "\n",
              "[5 rows x 5 columns]"
            ]
          },
          "metadata": {
            "tags": []
          },
          "execution_count": 41
        }
      ]
    },
    {
      "cell_type": "code",
      "metadata": {
        "colab": {
          "base_uri": "https://localhost:8080/",
          "height": 35
        },
        "id": "3xiVltuXaUBa",
        "outputId": "9fa28b57-9420-49b5-ae21-ed437ab22c7e"
      },
      "source": [
        "df.cleaned.iloc[36]"
      ],
      "execution_count": 42,
      "outputs": [
        {
          "output_type": "execute_result",
          "data": {
            "application/vnd.google.colaboratory.intrinsic+json": {
              "type": "string"
            },
            "text/plain": [
              "'could not execute code stage because exception thrown by code stage exception from hresult xac'"
            ]
          },
          "metadata": {
            "tags": []
          },
          "execution_count": 42
        }
      ]
    },
    {
      "cell_type": "code",
      "metadata": {
        "id": "uw-VkU77ad_G"
      },
      "source": [
        "corpus = df.cleaned"
      ],
      "execution_count": 43,
      "outputs": []
    },
    {
      "cell_type": "code",
      "metadata": {
        "id": "FvrckMGIcIU_"
      },
      "source": [
        "import gensim\n",
        "import gensim.downloader as gensim_api\n",
        "from sklearn.model_selection import train_test_split"
      ],
      "execution_count": 49,
      "outputs": []
    },
    {
      "cell_type": "code",
      "metadata": {
        "id": "bVH8tG5GcbM0"
      },
      "source": [
        "df_train, df_test = train_test_split(df, test_size=0.2)"
      ],
      "execution_count": 50,
      "outputs": []
    },
    {
      "cell_type": "code",
      "metadata": {
        "colab": {
          "base_uri": "https://localhost:8080/"
        },
        "id": "sYrMLm8IdnkR",
        "outputId": "946d4dd8-d8c8-4db0-9312-46322334f26e"
      },
      "source": [
        "corpus = df_train.cleaned\n",
        "\n",
        "lst_corpus = []\n",
        "\n",
        "for string in corpus: \n",
        "    lst_words = string.split()\n",
        "    lst_grams = [\" \".join(lst_words[i:i+1]) \n",
        "               for i in range(0, len(lst_words), 1)]\n",
        "    lst_corpus.append(lst_grams)\n",
        "\n",
        "len(lst_corpus)"
      ],
      "execution_count": 56,
      "outputs": [
        {
          "output_type": "execute_result",
          "data": {
            "text/plain": [
              "37"
            ]
          },
          "metadata": {
            "tags": []
          },
          "execution_count": 56
        }
      ]
    },
    {
      "cell_type": "code",
      "metadata": {
        "id": "WBSdfucLehaL"
      },
      "source": [
        "bigrams_detector = gensim.models.phrases.Phrases(lst_corpus,delimiter=\" \".encode(), min_count=5, threshold=10)\n",
        "bigrams_detector = gensim.models.phrases.Phraser(bigrams_detector)\n",
        "trigrams_detector = gensim.models.phrases.Phrases(bigrams_detector[lst_corpus], delimiter=\" \".encode(), min_count=5, threshold=10)\n",
        "trigrams_detector = gensim.models.phrases.Phraser(trigrams_detector)"
      ],
      "execution_count": 95,
      "outputs": []
    },
    {
      "cell_type": "code",
      "metadata": {
        "colab": {
          "base_uri": "https://localhost:8080/"
        },
        "id": "Eh0Um3lRfJDB",
        "outputId": "3034b732-f173-4efc-c207-c5633d66f952"
      },
      "source": [
        "len(lst_corpus)"
      ],
      "execution_count": 96,
      "outputs": [
        {
          "output_type": "execute_result",
          "data": {
            "text/plain": [
              "37"
            ]
          },
          "metadata": {
            "tags": []
          },
          "execution_count": 96
        }
      ]
    },
    {
      "cell_type": "code",
      "metadata": {
        "id": "vEiwaxw7fzJJ"
      },
      "source": [
        "# list(trigrams_detector[lst_corpus])"
      ],
      "execution_count": 99,
      "outputs": []
    },
    {
      "cell_type": "code",
      "metadata": {
        "id": "uzJaW2FXf50f"
      },
      "source": [
        "nlp = gensim.models.word2vec.Word2Vec(lst_corpus, size=300, window=8, min_count=1, sg=1, iter=30)"
      ],
      "execution_count": 75,
      "outputs": []
    },
    {
      "cell_type": "code",
      "metadata": {
        "colab": {
          "base_uri": "https://localhost:8080/"
        },
        "id": "Z7jv_oKziDGo",
        "outputId": "ea4eb5f3-691c-4265-d1b9-ca590973d150"
      },
      "source": [
        "nlp['found'].shape"
      ],
      "execution_count": 77,
      "outputs": [
        {
          "output_type": "stream",
          "text": [
            "/usr/local/lib/python3.7/dist-packages/ipykernel_launcher.py:1: DeprecationWarning: Call to deprecated `__getitem__` (Method will be removed in 4.0.0, use self.wv.__getitem__() instead).\n",
            "  \"\"\"Entry point for launching an IPython kernel.\n"
          ],
          "name": "stderr"
        },
        {
          "output_type": "execute_result",
          "data": {
            "text/plain": [
              "(300,)"
            ]
          },
          "metadata": {
            "tags": []
          },
          "execution_count": 77
        }
      ]
    },
    {
      "cell_type": "code",
      "metadata": {
        "id": "jbcmNUpEiHLK"
      },
      "source": [
        "from tensorflow.keras import models, layers, preprocessing"
      ],
      "execution_count": 78,
      "outputs": []
    },
    {
      "cell_type": "code",
      "metadata": {
        "id": "ys_vq-whjGmL"
      },
      "source": [
        "tokenizer = preprocessing.text.Tokenizer(split = ' ')\n",
        "tokenizer.fit_on_texts(lst_corpus)"
      ],
      "execution_count": 80,
      "outputs": []
    },
    {
      "cell_type": "code",
      "metadata": {
        "colab": {
          "base_uri": "https://localhost:8080/"
        },
        "id": "cpm_n7M0jZhi",
        "outputId": "8838c2c2-debb-4baa-d98f-4a78ad3b1e07"
      },
      "source": [
        "dic_vocab = tokenizer.word_index\n",
        "dic_vocab"
      ],
      "execution_count": 82,
      "outputs": [
        {
          "output_type": "execute_result",
          "data": {
            "text/plain": [
              "{'access': 145,\n",
              " 'accessdenied': 147,\n",
              " 'accessing': 107,\n",
              " 'after': 183,\n",
              " 'already': 152,\n",
              " 'an': 51,\n",
              " 'and': 62,\n",
              " 'any': 135,\n",
              " 'apac': 137,\n",
              " 'application': 88,\n",
              " 'applicationmanager': 197,\n",
              " 'article': 64,\n",
              " 'assurance': 116,\n",
              " 'at': 58,\n",
              " 'automatically': 173,\n",
              " 'bank': 166,\n",
              " 'bbc': 28,\n",
              " 'be': 23,\n",
              " 'because': 27,\n",
              " 'been': 169,\n",
              " 'block': 168,\n",
              " 'blueprism': 196,\n",
              " 'bot': 114,\n",
              " 'both': 79,\n",
              " 'by': 12,\n",
              " 'c': 126,\n",
              " 'call': 90,\n",
              " 'callee': 172,\n",
              " 'cbs': 159,\n",
              " 'clear': 140,\n",
              " 'click': 60,\n",
              " 'client': 178,\n",
              " 'clshtmldocument': 199,\n",
              " 'code': 8,\n",
              " 'coding': 167,\n",
              " 'collection': 76,\n",
              " 'contain': 77,\n",
              " 'contains': 117,\n",
              " 'control': 128,\n",
              " 'could': 20,\n",
              " 'country': 138,\n",
              " 'created': 155,\n",
              " 'creating': 103,\n",
              " 'data': 13,\n",
              " 'denied': 146,\n",
              " 'desc': 142,\n",
              " 'dictionary': 163,\n",
              " 'disconnected': 99,\n",
              " 'doe': 53,\n",
              " 'due': 42,\n",
              " 'e': 36,\n",
              " 'element': 205,\n",
              " 'email': 67,\n",
              " 'end': 176,\n",
              " 'entry': 59,\n",
              " 'error': 18,\n",
              " 'evaluate': 122,\n",
              " 'exception': 3,\n",
              " 'execscript': 194,\n",
              " 'execute': 26,\n",
              " 'expression': 123,\n",
              " 'ey': 164,\n",
              " 'failed': 6,\n",
              " 'failure': 83,\n",
              " 'fetch': 40,\n",
              " 'field': 82,\n",
              " 'file': 69,\n",
              " 'filter': 101,\n",
              " 'filterd': 132,\n",
              " 'find': 84,\n",
              " 'finding': 56,\n",
              " 'for': 48,\n",
              " 'form': 57,\n",
              " 'found': 15,\n",
              " 'from': 9,\n",
              " 'gateway': 73,\n",
              " 'given': 160,\n",
              " 'ha': 54,\n",
              " 'handle': 105,\n",
              " 'home': 102,\n",
              " 'house': 165,\n",
              " 'hresult': 29,\n",
              " 'html': 198,\n",
              " 'htmlwindowclass': 192,\n",
              " 'id': 19,\n",
              " 'ihtmlwindow': 193,\n",
              " 'in': 4,\n",
              " 'input': 210,\n",
              " 'internal': 47,\n",
              " 'internalfailed': 121,\n",
              " 'interviewer': 113,\n",
              " 'into': 133,\n",
              " 'invite': 24,\n",
              " 'invocation': 171,\n",
              " 'invoked': 177,\n",
              " 'invokejavascriptmethod': 200,\n",
              " 'invoking': 188,\n",
              " 'is': 65,\n",
              " 'issue': 43,\n",
              " 'it': 87,\n",
              " 'item': 34,\n",
              " 'javascript': 189,\n",
              " 'jsonargs': 202,\n",
              " 'key': 161,\n",
              " 'language': 195,\n",
              " 'launch': 37,\n",
              " 'launched': 153,\n",
              " 'line': 97,\n",
              " 'macro': 215,\n",
              " 'mail': 44,\n",
              " 'mailbody': 125,\n",
              " 'mailbox': 52,\n",
              " 'main': 129,\n",
              " 'mandatory': 81,\n",
              " 'manually': 158,\n",
              " 'match': 206,\n",
              " 'memory': 110,\n",
              " 'method': 190,\n",
              " 'methodname': 201,\n",
              " 'missing': 80,\n",
              " 'model': 94,\n",
              " 'mshtml': 191,\n",
              " 'n': 186,\n",
              " 'navigate': 32,\n",
              " 'new': 33,\n",
              " 'no': 22,\n",
              " 'nodelevel': 130,\n",
              " 'not': 2,\n",
              " 'now': 182,\n",
              " 'object': 98,\n",
              " 'occured': 45,\n",
              " 'of': 66,\n",
              " 'on': 10,\n",
              " 'order': 96,\n",
              " 'out': 109,\n",
              " 'output': 49,\n",
              " 'pa': 149,\n",
              " 'page': 11,\n",
              " 'parent': 156,\n",
              " 'perform': 16,\n",
              " 'po': 154,\n",
              " 'populated': 131,\n",
              " 'populating': 211,\n",
              " 'present': 162,\n",
              " 'problemticket': 143,\n",
              " 'processed': 39,\n",
              " 'product': 93,\n",
              " 'proecssed': 157,\n",
              " 'purchase': 95,\n",
              " 'query': 208,\n",
              " 'queue': 112,\n",
              " 'queuefile': 134,\n",
              " 'race': 14,\n",
              " 'read': 38,\n",
              " 'recruiter': 106,\n",
              " 'rejected': 91,\n",
              " 'remote': 70,\n",
              " 'replace': 124,\n",
              " 'req': 187,\n",
              " 'result': 212,\n",
              " 'retries': 185,\n",
              " 'returned': 72,\n",
              " 'retval': 203,\n",
              " 'right': 118,\n",
              " 'rpc': 92,\n",
              " 'running': 214,\n",
              " 'sa': 127,\n",
              " 'sccm': 151,\n",
              " 'search': 61,\n",
              " 'send': 115,\n",
              " 'serr': 204,\n",
              " 'server': 71,\n",
              " 'service': 181,\n",
              " 'session': 175,\n",
              " 'set': 174,\n",
              " 'short': 141,\n",
              " 'site': 31,\n",
              " 'stage': 5,\n",
              " 'start': 119,\n",
              " 'step': 17,\n",
              " 'string': 30,\n",
              " 'subject': 75,\n",
              " 'supplied': 207,\n",
              " 'system': 180,\n",
              " 'tab': 144,\n",
              " 'taleo': 179,\n",
              " 'target': 170,\n",
              " 'tax': 148,\n",
              " 'tdr': 150,\n",
              " 'template': 68,\n",
              " 'term': 209,\n",
              " 'textbox': 85,\n",
              " 'tfd': 100,\n",
              " 'the': 7,\n",
              " 'this': 108,\n",
              " 'three': 184,\n",
              " 'thrown': 21,\n",
              " 'timeout': 74,\n",
              " 'to': 1,\n",
              " 'tool': 41,\n",
              " 'unable': 46,\n",
              " 'unexpected': 213,\n",
              " 'update': 50,\n",
              " 'valid': 136,\n",
              " 'value': 86,\n",
              " 'w': 78,\n",
              " 'wa': 89,\n",
              " 'while': 25,\n",
              " 'window': 104,\n",
              " 'with': 120,\n",
              " 'work': 111,\n",
              " 'write': 55,\n",
              " 'x': 35,\n",
              " 'xac': 139,\n",
              " 'xxxx': 63}"
            ]
          },
          "metadata": {
            "tags": []
          },
          "execution_count": 82
        }
      ]
    },
    {
      "cell_type": "code",
      "metadata": {
        "id": "rhXK9DAvjlod"
      },
      "source": [
        "## create sequence\n",
        "lst_text2seq= tokenizer.texts_to_sequences(lst_corpus)\n",
        "\n",
        "## padding sequence\n",
        "X_train = preprocessing.sequence.pad_sequences(lst_text2seq, maxlen=15, padding=\"post\", truncating=\"post\")"
      ],
      "execution_count": 91,
      "outputs": []
    },
    {
      "cell_type": "code",
      "metadata": {
        "id": "NDQryjJzj8i4"
      },
      "source": [
        "import seaborn as sns"
      ],
      "execution_count": 92,
      "outputs": []
    },
    {
      "cell_type": "code",
      "metadata": {
        "colab": {
          "base_uri": "https://localhost:8080/",
          "height": 266
        },
        "id": "8IBhUr4sj-aa",
        "outputId": "f62f303f-fd32-4bcb-d6fe-6bf539257873"
      },
      "source": [
        "sns.heatmap(X_train==0, vmin=0, vmax=1, cbar=False)\n",
        "plt.show()"
      ],
      "execution_count": 93,
      "outputs": [
        {
          "output_type": "display_data",
          "data": {
            "image/png": "[encoded data removed]",
            "text/plain": [
              "<Figure size 432x288 with 1 Axes>"
            ]
          },
          "metadata": {
            "tags": [],
            "needs_background": "light"
          }
        }
      ]
    },
    {
      "cell_type": "code",
      "metadata": {
        "colab": {
          "base_uri": "https://localhost:8080/"
        },
        "id": "SM5n1moYkLss",
        "outputId": "a13e9153-e9b4-4ff1-faff-32ad863b2f4d"
      },
      "source": [
        "embeddings = np.zeros((len(dic_vocab)+1, 300))\n",
        "\n",
        "for word, idx in dic_vocab.items():\n",
        "    embeddings[idx] = nlp[word]"
      ],
      "execution_count": 101,
      "outputs": [
        {
          "output_type": "stream",
          "text": [
            "/usr/local/lib/python3.7/dist-packages/ipykernel_launcher.py:4: DeprecationWarning: Call to deprecated `__getitem__` (Method will be removed in 4.0.0, use self.wv.__getitem__() instead).\n",
            "  after removing the cwd from sys.path.\n"
          ],
          "name": "stderr"
        }
      ]
    },
    {
      "cell_type": "code",
      "metadata": {
        "colab": {
          "base_uri": "https://localhost:8080/"
        },
        "id": "SbH0Vam7mbDY",
        "outputId": "2dd514af-35d2-4bb3-f675-0506c16f5f31"
      },
      "source": [
        "embeddings.shape"
      ],
      "execution_count": 104,
      "outputs": [
        {
          "output_type": "execute_result",
          "data": {
            "text/plain": [
              "(216, 300)"
            ]
          },
          "metadata": {
            "tags": []
          },
          "execution_count": 104
        }
      ]
    },
    {
      "cell_type": "code",
      "metadata": {
        "id": "emv72lW9mrKk"
      },
      "source": [
        "    "
      ],
      "execution_count": 104,
      "outputs": []
    },
    {
      "cell_type": "code",
      "metadata": {
        "id": "jAxwI9LJpQOJ"
      },
      "source": [
        ""
      ],
      "execution_count": null,
      "outputs": []
    },
    {
      "cell_type": "markdown",
      "metadata": {
        "id": "0QroaVdxpQyN"
      },
      "source": [
        "## Now Creating Deep Learning Model: "
      ]
    },
    {
      "cell_type": "code",
      "metadata": {
        "id": "MyK6gdzVpWy3"
      },
      "source": [
        "# attention layer\n",
        "def attention_layer(inputs, neurons):\n",
        "    x = layers.Permute((2,1))(inputs)\n",
        "    x = layers.Dense(neurons, activation=\"softmax\")(x)\n",
        "    x = layers.Permute((2,1), name=\"attention\")(x)\n",
        "    x = layers.multiply([inputs, x])\n",
        "    return x\n"
      ],
      "execution_count": 105,
      "outputs": []
    },
    {
      "cell_type": "code",
      "metadata": {
        "colab": {
          "base_uri": "https://localhost:8080/"
        },
        "id": "XGtP81UCpanp",
        "outputId": "77705d80-85bd-43cd-995b-846f2e6b1920"
      },
      "source": [
        "x_in = layers.Input(shape = (15,))\n",
        "\n",
        "x = layers.Embedding(input_dim=embeddings.shape[0],\n",
        "                     output_dim = embeddings.shape[1],\n",
        "                     weights = [embeddings],\n",
        "                     input_length = 15, trainable = False) (x_in)\n",
        "\n",
        "x = attention_layer(x, neurons=15)\n",
        "\n",
        "x = layers.Bidirectional(layers.LSTM(units=15, dropout=0.2, \n",
        "                         return_sequences=True))(x)\n",
        "x = layers.Bidirectional(layers.LSTM(units=15, dropout=0.2))(x)\n",
        "\n",
        "x = layers.Dense(64, activation='relu')(x)\n",
        "y_out = layers.Dense(2, activation='softmax')(x)\n",
        "\n",
        "model = models.Model(x_in, y_out)\n",
        "model.compile(loss='sparse_categorical_crossentropy',\n",
        "              optimizer='adam', metrics=['accuracy'])\n",
        "\n",
        "model.summary()"
      ],
      "execution_count": 118,
      "outputs": [
        {
          "output_type": "stream",
          "text": [
            "Model: \"model_1\"\n",
            "__________________________________________________________________________________________________\n",
            "Layer (type)                    Output Shape         Param #     Connected to                     \n",
            "==================================================================================================\n",
            "input_2 (InputLayer)            [(None, 15)]         0                                            \n",
            "__________________________________________________________________________________________________\n",
            "embedding_1 (Embedding)         (None, 15, 300)      64800       input_2[0][0]                    \n",
            "__________________________________________________________________________________________________\n",
            "permute_1 (Permute)             (None, 300, 15)      0           embedding_1[0][0]                \n",
            "__________________________________________________________________________________________________\n",
            "dense_3 (Dense)                 (None, 300, 15)      240         permute_1[0][0]                  \n",
            "__________________________________________________________________________________________________\n",
            "attention (Permute)             (None, 15, 300)      0           dense_3[0][0]                    \n",
            "__________________________________________________________________________________________________\n",
            "multiply_1 (Multiply)           (None, 15, 300)      0           embedding_1[0][0]                \n",
            "                                                                 attention[0][0]                  \n",
            "__________________________________________________________________________________________________\n",
            "bidirectional_2 (Bidirectional) (None, 15, 30)       37920       multiply_1[0][0]                 \n",
            "__________________________________________________________________________________________________\n",
            "bidirectional_3 (Bidirectional) (None, 30)           5520        bidirectional_2[0][0]            \n",
            "__________________________________________________________________________________________________\n",
            "dense_4 (Dense)                 (None, 64)           1984        bidirectional_3[0][0]            \n",
            "__________________________________________________________________________________________________\n",
            "dense_5 (Dense)                 (None, 2)            130         dense_4[0][0]                    \n",
            "==================================================================================================\n",
            "Total params: 110,594\n",
            "Trainable params: 45,794\n",
            "Non-trainable params: 64,800\n",
            "__________________________________________________________________________________________________\n"
          ],
          "name": "stdout"
        }
      ]
    },
    {
      "cell_type": "code",
      "metadata": {
        "id": "qDGlJdvxslcM"
      },
      "source": [
        "y_train = df_train.output"
      ],
      "execution_count": 119,
      "outputs": []
    },
    {
      "cell_type": "code",
      "metadata": {
        "id": "UD2KIXYqqbT5"
      },
      "source": [
        "dic_y_mapping = {n:label for n,label in \n",
        "                 enumerate(np.unique(y_train))}\n",
        "inverse_dic = {v:k for k,v in dic_y_mapping.items()}\n",
        "y_train = np.array([inverse_dic[y] for y in y_train])## train\n",
        "training = model.fit(x=X_train, y=y_train, epochs=10, shuffle=True, verbose=0, validation_split=0.3)"
      ],
      "execution_count": 120,
      "outputs": []
    },
    {
      "cell_type": "code",
      "metadata": {
        "id": "YCamFQcCtNCj"
      },
      "source": [
        "corpus = df_test[\"cleaned\"]\n",
        "## create list of n-grams\n",
        "lst_corpus = []\n",
        "for string in corpus:\n",
        "    lst_words = string.split()\n",
        "    lst_grams = [\" \".join(lst_words[i:i+1]) for i in range(0, \n",
        "                 len(lst_words), 1)]\n",
        "    lst_corpus.append(lst_grams)\n",
        "    ## detect common bigrams and trigrams using the fitted detectors\n",
        "lst_corpus = list(bigrams_detector[lst_corpus])\n",
        "lst_corpus = list(trigrams_detector[lst_corpus])\n",
        "## text to sequence with the fitted tokenizer\n",
        "lst_text2seq = tokenizer.texts_to_sequences(lst_corpus)\n",
        "## padding sequence\n",
        "X_test = preprocessing.sequence.pad_sequences(lst_text2seq, maxlen=15,\n",
        "             padding=\"post\", truncating=\"post\")"
      ],
      "execution_count": 121,
      "outputs": []
    },
    {
      "cell_type": "code",
      "metadata": {
        "id": "lNUi8vCjsyOM"
      },
      "source": [
        "predicted_prob = model.predict(X_test)\n",
        "predicted = [dic_y_mapping[np.argmax(pred)] for pred in \n",
        "             predicted_prob]"
      ],
      "execution_count": 122,
      "outputs": []
    },
    {
      "cell_type": "code",
      "metadata": {
        "colab": {
          "base_uri": "https://localhost:8080/"
        },
        "id": "X8NmqeH8tr8q",
        "outputId": "e9601c8c-a586-4e3c-a02a-71877d0e1756"
      },
      "source": [
        "predicted_prob"
      ],
      "execution_count": 123,
      "outputs": [
        {
          "output_type": "execute_result",
          "data": {
            "text/plain": [
              "array([[0.52917796, 0.47082207],\n",
              "       [0.52535236, 0.47464764],\n",
              "       [0.53412646, 0.46587354],\n",
              "       [0.52260596, 0.4773941 ],\n",
              "       [0.5374412 , 0.46255875],\n",
              "       [0.52466923, 0.4753307 ],\n",
              "       [0.53306514, 0.46693483],\n",
              "       [0.5331026 , 0.46689737],\n",
              "       [0.53711593, 0.462884  ],\n",
              "       [0.5172368 , 0.48276323]], dtype=float32)"
            ]
          },
          "metadata": {
            "tags": []
          },
          "execution_count": 123
        }
      ]
    },
    {
      "cell_type": "code",
      "metadata": {
        "id": "rZq0BfUat8fe"
      },
      "source": [
        "predicted"
      ],
      "execution_count": null,
      "outputs": []
    },
    {
      "cell_type": "code",
      "metadata": {
        "colab": {
          "base_uri": "https://localhost:8080/"
        },
        "id": "EG60I8mutuKD",
        "outputId": "1f857b8e-7f45-4127-fd43-1a60646aab4b"
      },
      "source": [
        "df_test.output"
      ],
      "execution_count": 124,
      "outputs": [
        {
          "output_type": "execute_result",
          "data": {
            "text/plain": [
              "15      System Exception\n",
              "37      System Exception\n",
              "17    Business Exception\n",
              "44      System Exception\n",
              "6       System Exception\n",
              "45      System Exception\n",
              "5     Business Exception\n",
              "20      System Exception\n",
              "13    Business Exception\n",
              "26      System Exception\n",
              "Name: output, dtype: object"
            ]
          },
          "metadata": {
            "tags": []
          },
          "execution_count": 124
        }
      ]
    },
    {
      "cell_type": "code",
      "metadata": {
        "id": "VRFKoh1Ctw7Z"
      },
      "source": [
        ""
      ],
      "execution_count": null,
      "outputs": []
    }
  ]
}